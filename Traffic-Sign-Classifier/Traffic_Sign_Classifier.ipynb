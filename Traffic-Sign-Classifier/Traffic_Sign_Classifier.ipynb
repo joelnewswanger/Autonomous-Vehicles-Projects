{
 "cells": [
  {
   "cell_type": "markdown",
   "metadata": {},
   "source": [
    "# Self-Driving Car Engineer Nanodegree\n",
    "\n",
    "## Deep Learning\n",
    "\n",
    "## Project: Build a Traffic Sign Recognition Classifier\n"
   ]
  },
  {
   "cell_type": "markdown",
   "metadata": {},
   "source": [
    "---\n",
    "## Step 0: Load The Data"
   ]
  },
  {
   "cell_type": "code",
   "execution_count": 14,
   "metadata": {},
   "outputs": [],
   "source": [
    "# Load pickled data\n",
    "import pickle\n",
    "\n",
    "training_file = \"train.p\"\n",
    "validation_file=\"valid.p\"\n",
    "testing_file = \"test.p\"\n",
    "\n",
    "with open(training_file, mode='rb') as f:\n",
    "    train = pickle.load(f)\n",
    "with open(validation_file, mode='rb') as f:\n",
    "    valid = pickle.load(f)\n",
    "with open(testing_file, mode='rb') as f:\n",
    "    test = pickle.load(f)\n",
    "    \n",
    "X_train, y_train = train['features'], train['labels']\n",
    "X_valid, y_valid = valid['features'], valid['labels']\n",
    "X_test, y_test = test['features'], test['labels']"
   ]
  },
  {
   "cell_type": "markdown",
   "metadata": {},
   "source": [
    "---\n",
    "\n",
    "## Step 1: Dataset Summary & Exploration\n",
    "\n",
    "The pickled data is a dictionary with 4 key/value pairs:\n",
    "\n",
    "- `'features'` is a 4D array containing raw pixel data of the traffic sign images, (num examples, width, height, channels).\n",
    "- `'labels'` is a 1D array containing the label/class id of the traffic sign. The file `signnames.csv` contains id -> name mappings for each id.\n",
    "- `'sizes'` is a list containing tuples, (width, height) representing the original width and height the image.\n",
    "- `'coords'` is a list containing tuples, (x1, y1, x2, y2) representing coordinates of a bounding box around the sign in the image."
   ]
  },
  {
   "cell_type": "markdown",
   "metadata": {},
   "source": [
    "### Basic Summary of the Data Set Using Python, Numpy and/or Pandas"
   ]
  },
  {
   "cell_type": "code",
   "execution_count": 15,
   "metadata": {},
   "outputs": [
    {
     "name": "stdout",
     "output_type": "stream",
     "text": [
      "Number of training samples = 34799\n",
      "Number of validation samples =  4410\n",
      "Number of testing samples = 12630\n",
      "Image data shape = (34799, 32, 32, 3)\n",
      "Number of classes = 43\n"
     ]
    }
   ],
   "source": [
    "import numpy\n",
    "# Number of training examples\n",
    "n_train = len(train['features'])\n",
    "\n",
    "# Number of validation examples\n",
    "n_validation = len(valid['features'])\n",
    "\n",
    "# Number of testing examples.\n",
    "n_test = len(test['features'])\n",
    "\n",
    "# What's the shape of an traffic sign image?\n",
    "image_shape = train['features'].shape\n",
    "\n",
    "# How many unique classes/labels there are in the dataset.\n",
    "n_classes = len(numpy.unique(train['labels']))\n",
    "\n",
    "print(\"Number of training samples =\", n_train)\n",
    "print(\"Number of validation samples = \", n_validation)\n",
    "print(\"Number of testing samples =\", n_test)\n",
    "print(\"Image data shape =\", image_shape)\n",
    "print(\"Number of classes =\", n_classes)"
   ]
  },
  {
   "cell_type": "markdown",
   "metadata": {},
   "source": [
    "### Exploratory visualization of the dataset"
   ]
  },
  {
   "cell_type": "code",
   "execution_count": 1,
   "metadata": {},
   "outputs": [],
   "source": [
    "import matplotlib.pyplot as plt\n",
    "# Visualizations will be shown in the notebook.\n",
    "%matplotlib inline"
   ]
  },
  {
   "cell_type": "code",
   "execution_count": 106,
   "metadata": {},
   "outputs": [
    {
     "data": {
      "image/png": "[encoded data removed]",
      "text/plain": [
       "<matplotlib.figure.Figure at 0x7f42934cea58>"
      ]
     },
     "metadata": {},
     "output_type": "display_data"
    }
   ],
   "source": [
    "unique, counts = numpy.unique(train['labels'], return_counts=True)\n",
    "plt.bar(unique, counts)\n",
    "plt.savefig('distribution.png', bbox_inches='tight')"
   ]
  },
  {
   "cell_type": "markdown",
   "metadata": {},
   "source": [
    "----\n",
    "\n",
    "## Step 2: Design and Test a Model Architecture\n",
    "\n",
    "Design and implement a deep learning model that learns to recognize traffic signs. Train and test model on the [German Traffic Sign Dataset](http://benchmark.ini.rub.de/?section=gtsrb&subsection=dataset)."
   ]
  },
  {
   "cell_type": "markdown",
   "metadata": {},
   "source": [
    "### Pre-process the Data Set"
   ]
  },
  {
   "cell_type": "code",
   "execution_count": 34,
   "metadata": {},
   "outputs": [],
   "source": [
    "# One-hot encoding\n",
    "from keras.utils.np_utils import to_categorical\n",
    "\n",
    "oneHotTrain = to_categorical(y_train, num_classes=43)\n",
    "oneHotValid = to_categorical(y_valid, num_classes=43)\n",
    "oneHotTest = to_categorical(y_test, num_classes=43)"
   ]
  },
  {
   "cell_type": "code",
   "execution_count": 35,
   "metadata": {},
   "outputs": [],
   "source": [
    "#reassign\n",
    "y_train = oneHotTrain\n",
    "y_valid = oneHotValid\n",
    "y_test = oneHotTest"
   ]
  },
  {
   "cell_type": "code",
   "execution_count": 36,
   "metadata": {},
   "outputs": [],
   "source": [
    "\n",
    "# Convert to grayscale\n",
    "X_trainGray = numpy.sum(X_train/3, axis=3, keepdims=True)\n",
    "X_testGray = numpy.sum(X_test/3, axis=3, keepdims=True)\n",
    "X_validGray = numpy.sum(X_valid/3, axis=3, keepdims=True)\n",
    "\n",
    "# Center and Normalize\n",
    "X_trainNorm = (X_trainGray - 128)/128 \n",
    "X_testNorm = (X_testGray - 128)/128\n",
    "X_validNorm = (X_validGray - 128)/128\n",
    "\n",
    "#reassign\n",
    "X_train = X_trainNorm\n",
    "X_test = X_testNorm\n",
    "X_valid = X_validNorm"
   ]
  },
  {
   "cell_type": "code",
   "execution_count": 1,
   "metadata": {},
   "outputs": [
    {
     "name": "stderr",
     "output_type": "stream",
     "text": [
      "Using TensorFlow backend.\n"
     ]
    }
   ],
   "source": [
    "from keras.preprocessing import image\n",
    "from keras.models import Sequential\n",
    "from keras.layers import Conv2D, MaxPooling2D, GlobalAveragePooling2D\n",
    "from keras.layers import Activation, Dropout, Flatten, Dense\n",
    "from keras.callbacks import ModelCheckpoint"
   ]
  },
  {
   "cell_type": "code",
   "execution_count": 2,
   "metadata": {},
   "outputs": [],
   "source": [
    "trainGenerator=image.ImageDataGenerator(\n",
    "        shear_range=0.2, zoom_range=0.2,\n",
    "        rotation_range=5)"
   ]
  },
  {
   "cell_type": "markdown",
   "metadata": {},
   "source": [
    "### Model Architecture"
   ]
  },
  {
   "cell_type": "code",
   "execution_count": 3,
   "metadata": {},
   "outputs": [
    {
     "name": "stdout",
     "output_type": "stream",
     "text": [
      "_________________________________________________________________\n",
      "Layer (type)                 Output Shape              Param #   \n",
      "=================================================================\n",
      "conv2d_1 (Conv2D)            (None, 32, 32, 8)         80        \n",
      "_________________________________________________________________\n",
      "max_pooling2d_1 (MaxPooling2 (None, 16, 16, 8)         0         \n",
      "_________________________________________________________________\n",
      "conv2d_2 (Conv2D)            (None, 16, 16, 16)        1168      \n",
      "_________________________________________________________________\n",
      "max_pooling2d_2 (MaxPooling2 (None, 8, 8, 16)          0         \n",
      "_________________________________________________________________\n",
      "conv2d_3 (Conv2D)            (None, 8, 8, 32)          4640      \n",
      "_________________________________________________________________\n",
      "flatten_1 (Flatten)          (None, 2048)              0         \n",
      "_________________________________________________________________\n",
      "dense_1 (Dense)              (None, 64)                131136    \n",
      "_________________________________________________________________\n",
      "dropout_1 (Dropout)          (None, 64)                0         \n",
      "_________________________________________________________________\n",
      "dense_2 (Dense)              (None, 64)                4160      \n",
      "_________________________________________________________________\n",
      "dropout_2 (Dropout)          (None, 64)                0         \n",
      "_________________________________________________________________\n",
      "dense_3 (Dense)              (None, 43)                2795      \n",
      "_________________________________________________________________\n",
      "activation_1 (Activation)    (None, 43)                0         \n",
      "=================================================================\n",
      "Total params: 143,979\n",
      "Trainable params: 143,979\n",
      "Non-trainable params: 0\n",
      "_________________________________________________________________\n"
     ]
    }
   ],
   "source": [
    "model = Sequential()\n",
    "model.add(Conv2D(8, 3, padding='same', input_shape=(32,32,1), activation='relu'))\n",
    "model.add(MaxPooling2D())\n",
    "model.add(Conv2D(16, 3, padding='same', activation='relu'))\n",
    "model.add(MaxPooling2D())\n",
    "model.add(Conv2D(32, 3, padding='same', activation='relu'))\n",
    "model.add(Flatten())\n",
    "model.add(Dense(64))\n",
    "model.add(Dropout(.25))\n",
    "model.add(Dense(64))\n",
    "model.add(Dropout(.25))\n",
    "model.add(Dense(43))\n",
    "model.add(Activation('softmax'))\n",
    "\n",
    "model.summary()\n",
    "model.compile(optimizer='rmsprop', loss='categorical_crossentropy', metrics=['accuracy'])"
   ]
  },
  {
   "cell_type": "markdown",
   "metadata": {},
   "source": [
    "### Train, Validate and Test the Model"
   ]
  },
  {
   "cell_type": "code",
   "execution_count": 183,
   "metadata": {
    "scrolled": true
   },
   "outputs": [
    {
     "name": "stdout",
     "output_type": "stream",
     "text": [
      "Epoch 1/20\n",
      "1739/1739 [============================>.] - ETA: 0s - loss: 1.4118 - acc: 0.6015Epoch 00001: val_loss improved from inf to 0.47542, saving model to weights/model4.hdf5\n",
      "1740/1739 [==============================] - 33s 19ms/step - loss: 1.4116 - acc: 0.6015 - val_loss: 0.4754 - val_acc: 0.8694\n",
      "Epoch 2/20\n",
      "1738/1739 [============================>.] - ETA: 0s - loss: 0.4801 - acc: 0.8547Epoch 00002: val_loss improved from 0.47542 to 0.31667, saving model to weights/model4.hdf5\n",
      "1740/1739 [==============================] - 29s 17ms/step - loss: 0.4799 - acc: 0.8547 - val_loss: 0.3167 - val_acc: 0.8946\n",
      "Epoch 3/20\n",
      "1739/1739 [============================>.] - ETA: 0s - loss: 0.3259 - acc: 0.9026Epoch 00003: val_loss improved from 0.31667 to 0.27431, saving model to weights/model4.hdf5\n",
      "1740/1739 [==============================] - 31s 18ms/step - loss: 0.3260 - acc: 0.9026 - val_loss: 0.2743 - val_acc: 0.9293\n",
      "Epoch 4/20\n",
      "1736/1739 [============================>.] - ETA: 0s - loss: 0.2595 - acc: 0.9203Epoch 00004: val_loss did not improve\n",
      "1740/1739 [==============================] - 32s 19ms/step - loss: 0.2591 - acc: 0.9204 - val_loss: 0.2783 - val_acc: 0.9295\n",
      "Epoch 5/20\n",
      "1738/1739 [============================>.] - ETA: 0s - loss: 0.2207 - acc: 0.9323Epoch 00005: val_loss improved from 0.27431 to 0.24747, saving model to weights/model4.hdf5\n",
      "1740/1739 [==============================] - 31s 18ms/step - loss: 0.2209 - acc: 0.9323 - val_loss: 0.2475 - val_acc: 0.9424\n",
      "Epoch 6/20\n",
      "1737/1739 [============================>.] - ETA: 0s - loss: 0.1993 - acc: 0.9393Epoch 00006: val_loss improved from 0.24747 to 0.22284, saving model to weights/model4.hdf5\n",
      "1740/1739 [==============================] - 31s 18ms/step - loss: 0.1990 - acc: 0.9393 - val_loss: 0.2228 - val_acc: 0.9431\n",
      "Epoch 7/20\n",
      "1737/1739 [============================>.] - ETA: 0s - loss: 0.1788 - acc: 0.9455Epoch 00007: val_loss did not improve\n",
      "1740/1739 [==============================] - 32s 18ms/step - loss: 0.1791 - acc: 0.9455 - val_loss: 0.3010 - val_acc: 0.9211\n",
      "Epoch 8/20\n",
      "1736/1739 [============================>.] - ETA: 0s - loss: 0.1661 - acc: 0.9494Epoch 00008: val_loss did not improve\n",
      "1740/1739 [==============================] - 32s 18ms/step - loss: 0.1659 - acc: 0.9495 - val_loss: 0.2512 - val_acc: 0.9331\n",
      "Epoch 9/20\n",
      "1738/1739 [============================>.] - ETA: 0s - loss: 0.1579 - acc: 0.9534Epoch 00009: val_loss improved from 0.22284 to 0.21147, saving model to weights/model4.hdf5\n",
      "1740/1739 [==============================] - 32s 18ms/step - loss: 0.1578 - acc: 0.9534 - val_loss: 0.2115 - val_acc: 0.9449\n",
      "Epoch 10/20\n",
      "1738/1739 [============================>.] - ETA: 0s - loss: 0.1512 - acc: 0.9549Epoch 00010: val_loss did not improve\n",
      "1740/1739 [==============================] - 33s 19ms/step - loss: 0.1510 - acc: 0.9550 - val_loss: 0.2385 - val_acc: 0.9401\n",
      "Epoch 11/20\n",
      "1736/1739 [============================>.] - ETA: 0s - loss: 0.1474 - acc: 0.9571Epoch 00011: val_loss improved from 0.21147 to 0.19865, saving model to weights/model4.hdf5\n",
      "1740/1739 [==============================] - 32s 18ms/step - loss: 0.1474 - acc: 0.9570 - val_loss: 0.1986 - val_acc: 0.9490\n",
      "Epoch 12/20\n",
      "1736/1739 [============================>.] - ETA: 0s - loss: 0.1404 - acc: 0.9586Epoch 00012: val_loss improved from 0.19865 to 0.17503, saving model to weights/model4.hdf5\n",
      "1740/1739 [==============================] - 33s 19ms/step - loss: 0.1402 - acc: 0.9586 - val_loss: 0.1750 - val_acc: 0.9533\n",
      "Epoch 13/20\n",
      "1739/1739 [============================>.] - ETA: 0s - loss: 0.1350 - acc: 0.9585Epoch 00013: val_loss did not improve\n",
      "1740/1739 [==============================] - 32s 19ms/step - loss: 0.1349 - acc: 0.9585 - val_loss: 0.2095 - val_acc: 0.9463\n",
      "Epoch 14/20\n",
      "1736/1739 [============================>.] - ETA: 0s - loss: 0.1287 - acc: 0.9614Epoch 00014: val_loss did not improve\n",
      "1740/1739 [==============================] - 32s 18ms/step - loss: 0.1285 - acc: 0.9615 - val_loss: 0.2206 - val_acc: 0.9533\n",
      "Epoch 15/20\n",
      "1738/1739 [============================>.] - ETA: 0s - loss: 0.1280 - acc: 0.9629Epoch 00015: val_loss did not improve\n",
      "1740/1739 [==============================] - 33s 19ms/step - loss: 0.1279 - acc: 0.9629 - val_loss: 0.2374 - val_acc: 0.9433\n",
      "Epoch 16/20\n",
      "1739/1739 [============================>.] - ETA: 0s - loss: 0.1183 - acc: 0.9645Epoch 00016: val_loss did not improve\n",
      "1740/1739 [==============================] - 32s 18ms/step - loss: 0.1183 - acc: 0.9645 - val_loss: 0.2058 - val_acc: 0.9474\n",
      "Epoch 17/20\n",
      "1737/1739 [============================>.] - ETA: 0s - loss: 0.1186 - acc: 0.9649Epoch 00017: val_loss did not improve\n",
      "1740/1739 [==============================] - 32s 18ms/step - loss: 0.1185 - acc: 0.9649 - val_loss: 0.1784 - val_acc: 0.9571\n",
      "Epoch 18/20\n",
      "1737/1739 [============================>.] - ETA: 0s - loss: 0.1207 - acc: 0.9632Epoch 00018: val_loss improved from 0.17503 to 0.15436, saving model to weights/model4.hdf5\n",
      "1740/1739 [==============================] - 33s 19ms/step - loss: 0.1206 - acc: 0.9632 - val_loss: 0.1544 - val_acc: 0.9592\n",
      "Epoch 19/20\n",
      "1737/1739 [============================>.] - ETA: 0s - loss: 0.1144 - acc: 0.9654Epoch 00019: val_loss did not improve\n",
      "1740/1739 [==============================] - 33s 19ms/step - loss: 0.1143 - acc: 0.9654 - val_loss: 0.1664 - val_acc: 0.9567\n",
      "Epoch 20/20\n",
      "1736/1739 [============================>.] - ETA: 0s - loss: 0.1167 - acc: 0.9664Epoch 00020: val_loss did not improve\n",
      "1740/1739 [==============================] - 32s 18ms/step - loss: 0.1165 - acc: 0.9665 - val_loss: 0.1798 - val_acc: 0.9501\n"
     ]
    },
    {
     "data": {
      "text/plain": [
       "<keras.callbacks.History at 0x7efc3083a2e8>"
      ]
     },
     "execution_count": 183,
     "metadata": {},
     "output_type": "execute_result"
    }
   ],
   "source": [
    "checkpointer = ModelCheckpoint(filepath='weights/model4.hdf5', verbose=1, save_best_only=True)\n",
    "\n",
    "model.fit_generator(trainGenerator.flow(X_train, y_train, batch_size=20),\n",
    "                    steps_per_epoch=len(X_train) / 20, epochs=20,\n",
    "                    validation_data=(X_valid, y_valid), callbacks=[checkpointer], verbose=1)"
   ]
  },
  {
   "cell_type": "code",
   "execution_count": 37,
   "metadata": {},
   "outputs": [
    {
     "name": "stdout",
     "output_type": "stream",
     "text": [
      "12630/12630 [==============================] - 8s 656us/step\n",
      "test loss:  0.201709056157\n",
      "test acc:  0.950197933877\n"
     ]
    }
   ],
   "source": [
    "model.load_weights('weights/model4.hdf5')\n",
    "score = model.evaluate(X_test, y_test, batch_size = 20)\n",
    "print(\"test loss: \", score[0])\n",
    "print(\"test acc: \", score[1])"
   ]
  }
 ],
 "metadata": {
  "anaconda-cloud": {},
  "kernelspec": {
   "display_name": "Python 3",
   "language": "python",
   "name": "python3"
  },
  "language_info": {
   "codemirror_mode": {
    "name": "ipython",
    "version": 3
   },
   "file_extension": ".py",
   "mimetype": "text/x-python",
   "name": "python",
   "nbconvert_exporter": "python",
   "pygments_lexer": "ipython3",
   "version": "3.5.2"
  }
 },
 "nbformat": 4,
 "nbformat_minor": 1
}
